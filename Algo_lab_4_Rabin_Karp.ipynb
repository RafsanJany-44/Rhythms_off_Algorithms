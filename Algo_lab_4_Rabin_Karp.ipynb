{
  "nbformat": 4,
  "nbformat_minor": 0,
  "metadata": {
    "colab": {
      "name": "Algo_lab_4_Rabin-Karp.ipynb",
      "provenance": [],
      "authorship_tag": "ABX9TyP71zcM3qpfPq3puYGLTWJu",
      "include_colab_link": true
    },
    "kernelspec": {
      "name": "python3",
      "display_name": "Python 3"
    },
    "language_info": {
      "name": "python"
    }
  },
  "cells": [
    {
      "cell_type": "markdown",
      "metadata": {
        "id": "view-in-github",
        "colab_type": "text"
      },
      "source": [
        "<a href=\"https://colab.research.google.com/github/RafsanJany-44/Rhythms_off_Algorithms/blob/main/Algo_lab_4_Rabin_Karp.ipynb\" target=\"_parent\"><img src=\"https://colab.research.google.com/assets/colab-badge.svg\" alt=\"Open In Colab\"/></a>"
      ]
    },
    {
      "cell_type": "markdown",
      "source": [
        "1. Using Rabin-Karp string searching algorithm, walk through the steps of finding how many times the\n",
        "string “aba” occurs in the string “abdabababd”.\n",
        "Now, re-calculating the hash values, take modulus with respect to 3 and 7. For hashing with modulo\n",
        "3, will any collision (the stings are different but the hash is same) occur between any sub-string of\n",
        "the text with the pattern? Can you come up with an efficient way to reduce the probability of this\n",
        "collision (check the hash values for modulo 3 and modulo 7)?"
      ],
      "metadata": {
        "id": "_7H8FsOo2u_P"
      }
    },
    {
      "cell_type": "code",
      "execution_count": 1,
      "metadata": {
        "id": "ikFJ1Mnl2dRN",
        "outputId": "b38a8179-04a3-4e6f-a62b-c0feaea8b072",
        "colab": {
          "base_uri": "https://localhost:8080/"
        }
      },
      "outputs": [
        {
          "output_type": "stream",
          "name": "stdout",
          "text": [
            "{'a', 'd', 'b'}\n"
          ]
        }
      ],
      "source": [
        "text=\"abdabababd\"\n",
        "pattern=\"aba\"\n",
        "\n",
        "text_n=[]\n",
        "pattern_n=[]\n",
        "\n",
        "has_dic={}\n",
        "\n",
        "print(set(text))\n",
        "\n",
        "  "
      ]
    },
    {
      "cell_type": "code",
      "source": [
        ""
      ],
      "metadata": {
        "id": "r3nP2GYV6EJd"
      },
      "execution_count": null,
      "outputs": []
    }
  ]
}