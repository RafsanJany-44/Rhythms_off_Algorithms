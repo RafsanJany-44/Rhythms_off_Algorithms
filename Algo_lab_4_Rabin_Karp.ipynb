{
  "nbformat": 4,
  "nbformat_minor": 0,
  "metadata": {
    "colab": {
      "name": "Algo_lab_4_Rabin-Karp.ipynb",
      "provenance": [],
      "authorship_tag": "ABX9TyPTxngLZiQ86+M7VPKBjPdF",
      "include_colab_link": true
    },
    "kernelspec": {
      "name": "python3",
      "display_name": "Python 3"
    },
    "language_info": {
      "name": "python"
    }
  },
  "cells": [
    {
      "cell_type": "markdown",
      "metadata": {
        "id": "view-in-github",
        "colab_type": "text"
      },
      "source": [
        "<a href=\"https://colab.research.google.com/github/RafsanJany-44/Rhythms_off_Algorithms/blob/main/Algo_lab_4_Rabin_Karp.ipynb\" target=\"_parent\"><img src=\"https://colab.research.google.com/assets/colab-badge.svg\" alt=\"Open In Colab\"/></a>"
      ]
    },
    {
      "cell_type": "markdown",
      "source": [
        "1. Using Rabin-Karp string searching algorithm, walk through the steps of finding how many times the\n",
        "string “aba” occurs in the string “abdabababd”.\n",
        "Now, re-calculating the hash values, take modulus with respect to 3 and 7. For hashing with modulo\n",
        "3, will any collision (the stings are different but the hash is same) occur between any sub-string of\n",
        "the text with the pattern? Can you come up with an efficient way to reduce the probability of this\n",
        "collision (check the hash values for modulo 3 and modulo 7)?"
      ],
      "metadata": {
        "id": "_7H8FsOo2u_P"
      }
    },
    {
      "cell_type": "code",
      "execution_count": 21,
      "metadata": {
        "id": "ikFJ1Mnl2dRN",
        "colab": {
          "base_uri": "https://localhost:8080/"
        },
        "outputId": "edd9301a-7c1e-4bd7-ed10-054a8889f130"
      },
      "outputs": [
        {
          "output_type": "stream",
          "name": "stdout",
          "text": [
            "Text:  abdabababd\n",
            "Pattern:  aba\n",
            "Total occurences:   2\n",
            "Occured: \n",
            "['aba', 'index: 3 to 5']\n",
            "['aba', 'index: 5 to 7']\n",
            "Total occurences of Spurious Hit:   0\n",
            "Occured: \n",
            "\n"
          ]
        }
      ],
      "source": [
        "def textTOnum(text):\n",
        "  t_set=sorted(list(set(text)))\n",
        "  dict={}\n",
        "\n",
        "  for i in range(len(t_set)):\n",
        "    dict[t_set[i]]=i+1\n",
        "  return dict\n",
        "\n",
        "\n",
        "def hash_code(dict,pattern,d,p):\n",
        "  h=0\n",
        "  j=len(pattern)-1\n",
        "  for i in pattern:\n",
        "    h=h+(dict[i]*d**(j))\n",
        "    #print(dict[i],d,j)\n",
        "    j-=1\n",
        "  #print(h)\n",
        "  return (h%p)\n",
        "\n",
        "\n",
        "\n",
        "def RK(text,pattern,base,devider):\n",
        "  count=[]\n",
        "  spurious_hit_count=[]\n",
        "  i=0\n",
        "  j=len(pattern)\n",
        "  pat=hash_code(textTOnum(text),pattern,base,devider)\n",
        "  for i in range(len(text)):\n",
        "    if len(text[i:j+i])<j:\n",
        "      break\n",
        "    if hash_code(textTOnum(text),text[i:j+i],base,devider)==pat:\n",
        "      if text[i:j+i]==pattern:\n",
        "        count.append([text[i:j+i],\"index: \"+str(i)+\" to \"+str(j+i-1)])\n",
        "      else:\n",
        "        spurious_hit_count.append([text[i:j+i],\"index: \"+str(i)+\" to \"+str(j+i-1)])\n",
        "  \n",
        "  return (count,spurious_hit_count)\n",
        "\n",
        "\n",
        "\n",
        "\n",
        "text=\"abdabababd\"\n",
        "pattern=\"aba\"\n",
        "\n",
        "count,spurious_hit_count=RK(text,pattern,26,103)\n",
        "\n",
        "print(\"Text: \",text)\n",
        "print(\"Pattern: \",pattern)\n",
        "print(\"Total occurences:  \",len(count))\n",
        "print(\"Occured: \")\n",
        "print(*count,sep=\"\\n\")\n",
        "\n",
        "print(\"Total occurences of Spurious Hit:  \",len(spurious_hit_count))\n",
        "print(\"Occured: \")\n",
        "print(*spurious_hit_count,sep='\\n')\n",
        "      \n",
        "      \n"
      ]
    },
    {
      "cell_type": "code",
      "source": [
        ""
      ],
      "metadata": {
        "id": "r3nP2GYV6EJd"
      },
      "execution_count": null,
      "outputs": []
    }
  ]
}