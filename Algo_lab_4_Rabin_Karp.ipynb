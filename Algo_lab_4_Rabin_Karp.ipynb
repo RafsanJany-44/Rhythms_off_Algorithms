{
  "nbformat": 4,
  "nbformat_minor": 0,
  "metadata": {
    "colab": {
      "name": "Algo_lab_4_Rabin-Karp.ipynb",
      "provenance": [],
      "authorship_tag": "ABX9TyMFdC0snXaL5dhdSQ6OJU1S",
      "include_colab_link": true
    },
    "kernelspec": {
      "name": "python3",
      "display_name": "Python 3"
    },
    "language_info": {
      "name": "python"
    }
  },
  "cells": [
    {
      "cell_type": "markdown",
      "metadata": {
        "id": "view-in-github",
        "colab_type": "text"
      },
      "source": [
        "<a href=\"https://colab.research.google.com/github/RafsanJany-44/Rhythms_off_Algorithms/blob/main/Algo_lab_4_Rabin_Karp.ipynb\" target=\"_parent\"><img src=\"https://colab.research.google.com/assets/colab-badge.svg\" alt=\"Open In Colab\"/></a>"
      ]
    },
    {
      "cell_type": "markdown",
      "source": [
        "1. Using Rabin-Karp string searching algorithm, walk through the steps of finding how many times the\n",
        "string “aba” occurs in the string “abdabababd”.\n",
        "Now, re-calculating the hash values, take modulus with respect to 3 and 7. For hashing with modulo\n",
        "3, will any collision (the stings are different but the hash is same) occur between any sub-string of\n",
        "the text with the pattern? Can you come up with an efficient way to reduce the probability of this\n",
        "collision (check the hash values for modulo 3 and modulo 7)?"
      ],
      "metadata": {
        "id": "_7H8FsOo2u_P"
      }
    },
    {
      "cell_type": "code",
      "execution_count": 15,
      "metadata": {
        "id": "ikFJ1Mnl2dRN",
        "colab": {
          "base_uri": "https://localhost:8080/"
        },
        "outputId": "42995f43-1766-4be0-b32c-e9a3f49baed0"
      },
      "outputs": [
        {
          "output_type": "stream",
          "name": "stdout",
          "text": [
            "4\n",
            "aba   aba\n",
            "aba   aba\n"
          ]
        }
      ],
      "source": [
        "def textTOnum(text):\n",
        "  t_set=sorted(list(set(text)))\n",
        "  dict={}\n",
        "\n",
        "  for i in range(len(t_set)):\n",
        "    dict[t_set[i]]=i+1\n",
        "  return dict\n",
        "\n",
        "\n",
        "def hash_code(dict,pattern):\n",
        "  sum=0\n",
        "  for i in pattern:\n",
        "    sum=sum+dict[i]\n",
        "  return sum\n",
        "\n",
        "text=\"abdabababdc\"\n",
        "pattern=\"aba\"\n",
        "\n",
        "d=textTOnum(text)\n",
        "\n",
        "\n",
        "print(hash_code(textTOnum(text),pattern))\n",
        "\n",
        "\n",
        "i=0\n",
        "j=len(pattern)\n",
        "\n",
        "for i in range(len(text)):\n",
        "  if len(text[i:j+i])<j:\n",
        "    break\n",
        "  if hash_code(textTOnum(text),text[i:j+i])==hash_code(textTOnum(text),pattern):\n",
        "    print(text[i:j+i],\" \",pattern)"
      ]
    },
    {
      "cell_type": "code",
      "source": [
        ""
      ],
      "metadata": {
        "id": "r3nP2GYV6EJd"
      },
      "execution_count": null,
      "outputs": []
    }
  ]
}