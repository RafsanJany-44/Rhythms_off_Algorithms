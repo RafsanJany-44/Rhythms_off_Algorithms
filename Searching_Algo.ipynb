{
  "nbformat": 4,
  "nbformat_minor": 0,
  "metadata": {
    "colab": {
      "name": "Searching Algo.ipynb",
      "provenance": [],
      "collapsed_sections": [],
      "authorship_tag": "ABX9TyMvBju4VQC+t9pk7QufYsh2",
      "include_colab_link": true
    },
    "kernelspec": {
      "name": "python3",
      "display_name": "Python 3"
    },
    "language_info": {
      "name": "python"
    }
  },
  "cells": [
    {
      "cell_type": "markdown",
      "metadata": {
        "id": "view-in-github",
        "colab_type": "text"
      },
      "source": [
        "<a href=\"https://colab.research.google.com/github/RafsanJany-44/Rhythms_off_Algorithms/blob/main/Searching_Algo.ipynb\" target=\"_parent\"><img src=\"https://colab.research.google.com/assets/colab-badge.svg\" alt=\"Open In Colab\"/></a>"
      ]
    },
    {
      "cell_type": "code",
      "metadata": {
        "id": "2ehlpUGcW8gU"
      },
      "source": [
        "\n",
        "def graph(dict):\n",
        "  import networkx as nx\n",
        "  import matplotlib.pyplot as plt\n",
        "  talika=[]\n",
        "  for i in dict:\n",
        "    a = ()\n",
        "    for x in dict[i]:\n",
        "        l = list(a)\n",
        "        l.append(i)\n",
        "        l.append(x)\n",
        "        talika.append(tuple(l))\n",
        "  G = nx.DiGraph()\n",
        "  G.add_edges_from(talika)\n",
        "\n",
        "  pos = nx.spring_layout(G)\n",
        "  nx.draw_networkx_nodes(G, pos, cmap=plt.get_cmap('jet'), \n",
        "                        node_color = 'green', node_size = 1000)\n",
        "  nx.draw_networkx_labels(G, pos)\n",
        "  nx.draw_networkx_edges(G, pos,  arrows=True)\n",
        "  nx.draw_networkx_edges(G, pos,  arrows=True)\n",
        "  plt.show()"
      ],
      "execution_count": null,
      "outputs": []
    },
    {
      "cell_type": "markdown",
      "metadata": {
        "id": "Erkuw2n8EKCJ"
      },
      "source": [
        "#Breadth First Search "
      ]
    },
    {
      "cell_type": "code",
      "metadata": {
        "id": "8KEzks15UD_U",
        "colab": {
          "base_uri": "https://localhost:8080/",
          "height": 265
        },
        "outputId": "79540404-4870-4103-d5a0-6bbf34dd8098"
      },
      "source": [
        "\n",
        "dict={\n",
        "    'A':['B','C'],\n",
        "    'D':['B'],\n",
        "    'E':['C','F'],\n",
        "    'B':['H','G','F'],\n",
        "    'C':['G'],\n",
        "    'Z':[\"H\"]\n",
        "}\n",
        "\n",
        "dict2={\n",
        "    '0':['11','7','9'],\n",
        "    '1':['10','8'],\n",
        "    '2':['12','2'],\n",
        "    '3':['2','7','4'],\n",
        "    '4':[],\n",
        "    '5':[],\n",
        "    '6':['7','5'],\n",
        "    '7':['0','11','3','6'],\n",
        "    '8':['9','1','12'],\n",
        "    '9':['8','10','0'],\n",
        "    '10':['1','10'],\n",
        "    '11':['0','7']\n",
        "}\n",
        "\n",
        "graph(dict)\n",
        "values=list(dict.keys())\n",
        "print(dict[values[0]]) \n"
      ],
      "execution_count": null,
      "outputs": [
        {
          "output_type": "display_data",
          "data": {
            "image/png": "[encoded data removed]",
            "text/plain": [
              "<Figure size 432x288 with 1 Axes>"
            ]
          },
          "metadata": {
            "tags": []
          }
        },
        {
          "output_type": "stream",
          "text": [
            "['B', 'C']\n"
          ],
          "name": "stdout"
        }
      ]
    },
    {
      "cell_type": "code",
      "metadata": {
        "id": "R3SEpx3InboH"
      },
      "source": [
        "que=[]\n",
        "visited=[]\n",
        "i=0\n",
        "\n",
        "while(True):\n",
        "  temp=dict[que[i]]\n",
        "  for i in temp:\n",
        "    que.append[j]\n",
        "  visited.append[temp]\n",
        "  if(len(que)==len(visited))\n",
        "    break\n",
        "  i+=1\n"
      ],
      "execution_count": null,
      "outputs": []
    }
  ]
}