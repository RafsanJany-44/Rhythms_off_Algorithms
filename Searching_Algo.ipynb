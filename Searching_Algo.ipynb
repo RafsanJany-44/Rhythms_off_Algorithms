{
  "nbformat": 4,
  "nbformat_minor": 0,
  "metadata": {
    "colab": {
      "name": "Searching Algo.ipynb",
      "provenance": [],
      "collapsed_sections": [],
      "authorship_tag": "ABX9TyOZrXEqh2USr2mFLSTKUjv0",
      "include_colab_link": true
    },
    "kernelspec": {
      "name": "python3",
      "display_name": "Python 3"
    },
    "language_info": {
      "name": "python"
    }
  },
  "cells": [
    {
      "cell_type": "markdown",
      "metadata": {
        "id": "view-in-github",
        "colab_type": "text"
      },
      "source": [
        "<a href=\"https://colab.research.google.com/github/RafsanJany-44/Rhythms_off_Algorithms/blob/main/Searching_Algo.ipynb\" target=\"_parent\"><img src=\"https://colab.research.google.com/assets/colab-badge.svg\" alt=\"Open In Colab\"/></a>"
      ]
    },
    {
      "cell_type": "code",
      "metadata": {
        "id": "2ehlpUGcW8gU"
      },
      "source": [
        "def graph(dict):\n",
        "  import networkx as nx\n",
        "  import matplotlib.pyplot as plt\n",
        "  talika=[]\n",
        "  for i in dict:\n",
        "    a = ()\n",
        "    for x in dict[i]:\n",
        "        l = list(a)\n",
        "        l.append(i)\n",
        "        l.append(x)\n",
        "        talika.append(tuple(l))\n",
        "  G = nx.DiGraph()\n",
        "  G.add_edges_from(talika)\n",
        "\n",
        "  val_map = {'A': 1,\n",
        "            'D': 0.5714285714285714,\n",
        "            'H': 0.0\n",
        "            }\n",
        "\n",
        "  values = [val_map.get(node, 0.25) for node in G.nodes()]\n",
        "\n",
        "\n",
        "\n",
        "  # Specify the edges you want here\n",
        "  red_edges = [('A', 'C'), ('E', 'C')]\n",
        "  edge_colours = ['black' if not edge in red_edges else 'red'\n",
        "                  for edge in G.edges()]\n",
        "  black_edges = [edge for edge in G.edges() if edge not in red_edges]\n",
        "\n",
        "  # Need to create a layout when doing\n",
        "  # separate calls to draw nodes and edges\n",
        "  pos = nx.spring_layout(G)\n",
        "  nx.draw_networkx_nodes(G, pos, cmap=plt.get_cmap('jet'), \n",
        "                        node_color = values, node_size = 500)\n",
        "  nx.draw_networkx_labels(G, pos)\n",
        "  nx.draw_networkx_edges(G, pos, edgelist=red_edges, arrows=True)\n",
        "  nx.draw_networkx_edges(G, pos, edgelist=black_edges, arrows=True)\n",
        "  plt.show()\n"
      ],
      "execution_count": 34,
      "outputs": []
    },
    {
      "cell_type": "markdown",
      "metadata": {
        "id": "Erkuw2n8EKCJ"
      },
      "source": [
        "#Breadth First Search "
      ]
    },
    {
      "cell_type": "code",
      "metadata": {
        "id": "8KEzks15UD_U",
        "colab": {
          "base_uri": "https://localhost:8080/",
          "height": 247
        },
        "outputId": "e39bfb8b-9bac-4224-bb1b-00943e1c39bd"
      },
      "source": [
        "\n",
        "dict={\n",
        "    'A':['B','C'],\n",
        "    'D':['B'],\n",
        "    'E':['C','F'],\n",
        "    'B':['H','G','F'],\n",
        "    'C':['G'],\n",
        "    'Z':[\"H\"]\n",
        "}\n",
        "\n",
        "\n",
        "graph(dict)"
      ],
      "execution_count": 38,
      "outputs": [
        {
          "output_type": "display_data",
          "data": {
            "image/png": "[encoded data removed]",
            "text/plain": [
              "<Figure size 432x288 with 1 Axes>"
            ]
          },
          "metadata": {
            "tags": []
          }
        }
      ]
    },
    {
      "cell_type": "code",
      "metadata": {
        "colab": {
          "base_uri": "https://localhost:8080/"
        },
        "id": "_EJWYQdywXlb",
        "outputId": "fda497a1-93c5-4110-b203-022dd4ebcc38"
      },
      "source": [
        "talika=[]\n",
        "for i in dict:\n",
        "  a = ()\n",
        "  for x in dict[i]:\n",
        "      l = list(a)\n",
        "      l.append(i)\n",
        "      l.append(x)\n",
        "      talika.append(tuple(l))\n",
        "\n",
        "print(talika)"
      ],
      "execution_count": 33,
      "outputs": [
        {
          "output_type": "stream",
          "text": [
            "[('A', 'B'), ('A', 'C'), ('D', 'B'), ('E', 'C'), ('E', 'F'), ('B', 'H'), ('B', 'G'), ('B', 'F'), ('C', 'G')]\n"
          ],
          "name": "stdout"
        }
      ]
    }
  ]
}