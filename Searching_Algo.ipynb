{
  "nbformat": 4,
  "nbformat_minor": 0,
  "metadata": {
    "colab": {
      "name": "Searching Algo.ipynb",
      "provenance": [],
      "collapsed_sections": [],
      "authorship_tag": "ABX9TyOiqw1XFPxBTjrrp5Gvc8h+",
      "include_colab_link": true
    },
    "kernelspec": {
      "name": "python3",
      "display_name": "Python 3"
    },
    "language_info": {
      "name": "python"
    }
  },
  "cells": [
    {
      "cell_type": "markdown",
      "metadata": {
        "id": "view-in-github",
        "colab_type": "text"
      },
      "source": [
        "<a href=\"https://colab.research.google.com/github/RafsanJany-44/Rhythms_off_Algorithms/blob/main/Searching_Algo.ipynb\" target=\"_parent\"><img src=\"https://colab.research.google.com/assets/colab-badge.svg\" alt=\"Open In Colab\"/></a>"
      ]
    },
    {
      "cell_type": "code",
      "metadata": {
        "id": "2ehlpUGcW8gU"
      },
      "source": [
        "\n",
        "def graph(dict):\n",
        "  import networkx as nx\n",
        "  import matplotlib.pyplot as plt\n",
        "  talika=[]\n",
        "  for i in dict:\n",
        "    a = ()\n",
        "    for x in dict[i]:\n",
        "        l = list(a)\n",
        "        l.append(i)\n",
        "        l.append(x)\n",
        "        talika.append(tuple(l))\n",
        "  G = nx.DiGraph()\n",
        "  G.add_edges_from(talika)\n",
        "\n",
        "  pos = nx.spring_layout(G)\n",
        "  nx.draw_networkx_nodes(G, pos, cmap=plt.get_cmap('jet'), \n",
        "                        node_color = 'green', node_size = 1000)\n",
        "  nx.draw_networkx_labels(G, pos)\n",
        "  nx.draw_networkx_edges(G, pos,  arrows=True)\n",
        "  nx.draw_networkx_edges(G, pos,  arrows=True)\n",
        "  plt.show()"
      ],
      "execution_count": 1,
      "outputs": []
    },
    {
      "cell_type": "markdown",
      "metadata": {
        "id": "Erkuw2n8EKCJ"
      },
      "source": [
        "#Breadth First Search "
      ]
    },
    {
      "cell_type": "code",
      "metadata": {
        "id": "8KEzks15UD_U",
        "colab": {
          "base_uri": "https://localhost:8080/",
          "height": 283
        },
        "outputId": "8f8c30c6-0712-4cd5-9516-6f4368c11d06"
      },
      "source": [
        "\n",
        "dict={\n",
        "    'A':['B','C'],\n",
        "    'D':['B'],\n",
        "    'E':['C','F'],\n",
        "    'B':['H','G','F'],\n",
        "    'C':['G'],\n",
        "    'Z':[\"H\"]\n",
        "}\n",
        "\n",
        "dict2={\n",
        "    '0':['11','7','9'],\n",
        "    '1':['10','8'],\n",
        "    '2':['12','2'],\n",
        "    '3':['2','7','4'],\n",
        "    '4':[],\n",
        "    '5':[],\n",
        "    '6':['7','5'],\n",
        "    '7':['0','11','3','6'],\n",
        "    '8':['9','1','12'],\n",
        "    '9':['8','10','0'],\n",
        "    '10':['1','10'],\n",
        "    '11':['0','7']\n",
        "}\n",
        "\n",
        "graph(dict2)\n",
        "values=list(dict2.keys())\n",
        "print(values[0]) \n",
        "print(len(values))"
      ],
      "execution_count": 23,
      "outputs": [
        {
          "output_type": "display_data",
          "data": {
            "image/png": "[encoded data removed]",
            "text/plain": [
              "<Figure size 432x288 with 1 Axes>"
            ]
          },
          "metadata": {
            "tags": []
          }
        },
        {
          "output_type": "stream",
          "text": [
            "0\n",
            "12\n"
          ],
          "name": "stdout"
        }
      ]
    },
    {
      "cell_type": "code",
      "metadata": {
        "id": "R3SEpx3InboH"
      },
      "source": [
        "\n",
        "\n",
        "def BFS(duct,value):\n",
        "  values=list(dict.keys())\n",
        "  que=[values[0]]\n",
        "  v=[]\n",
        "  i=0\n",
        "\n",
        "  while(True):\n",
        "    if(que[i] not in values):\n",
        "      break\n",
        "    temp=dict[que[i]]\n",
        "    for j in temp:\n",
        "      if (j not in que):\n",
        "        que.append(j)\n",
        "    v.append(que[i])\n",
        "    \n",
        "    i+=1\n",
        "    print(\"Que: \",que)\n",
        "    print(\"Vis: \",v)\n",
        "    print(\"\\n\")\n"
      ],
      "execution_count": 35,
      "outputs": []
    }
  ]
}