{
  "nbformat": 4,
  "nbformat_minor": 0,
  "metadata": {
    "colab": {
      "name": "Algo_Lab2_13122021.ipynb",
      "provenance": [],
      "include_colab_link": true
    },
    "kernelspec": {
      "name": "python3",
      "display_name": "Python 3"
    },
    "language_info": {
      "name": "python"
    }
  },
  "cells": [
    {
      "cell_type": "markdown",
      "metadata": {
        "id": "view-in-github",
        "colab_type": "text"
      },
      "source": [
        "<a href=\"https://colab.research.google.com/github/RafsanJany-44/Rhythms_off_Algorithms/blob/main/Algo_Lab2_13122021.ipynb\" target=\"_parent\"><img src=\"https://colab.research.google.com/assets/colab-badge.svg\" alt=\"Open In Colab\"/></a>"
      ]
    },
    {
      "cell_type": "markdown",
      "source": [
        "#Dynamic Programing"
      ],
      "metadata": {
        "id": "pUHnvyOa_B32"
      }
    },
    {
      "cell_type": "code",
      "execution_count": 2,
      "metadata": {
        "colab": {
          "base_uri": "https://localhost:8080/"
        },
        "id": "1nWMhjbcJeWI",
        "outputId": "a7c9a808-ce57-4cc4-e5b8-ca5e5036b644"
      },
      "outputs": [
        {
          "output_type": "stream",
          "name": "stdout",
          "text": [
            "10 10\n"
          ]
        }
      ],
      "source": [
        "rod=[1,2,3,4,5,6,7,8,9,10]\n",
        "price=[1,5,8,10,15,15,13,20,24,15]\n",
        "\n",
        "dict={\n",
        "    0:0,\n",
        "    1:1,\n",
        "    2:5,\n",
        "    3:8,\n",
        "    4:10,\n",
        "    5:15,\n",
        "    6:15,\n",
        "    7:13,\n",
        "    8:20,\n",
        "    9:24,\n",
        "    10:15\n",
        "}\n",
        "print(len(rod),len(price))"
      ]
    },
    {
      "cell_type": "code",
      "source": [
        "dp={\n",
        "    0:0,\n",
        "    1:1\n",
        "}"
      ],
      "metadata": {
        "id": "rCBoI9ExZ2ky"
      },
      "execution_count": 7,
      "outputs": []
    },
    {
      "cell_type": "code",
      "source": [
        "\n",
        "def raf(n):\n",
        "  \n",
        "  talika=[]\n",
        "  print(\"DP: \",n)\n",
        "  for i in range(n):\n",
        "    sum = dict[n-i]+dp[i]\n",
        "    print(n-i,i)\n",
        "    talika.append(sum)\n",
        "  print(talika)\n",
        "  dp[n]=max(talika) \n"
      ],
      "metadata": {
        "id": "ItvI9jXqRITt"
      },
      "execution_count": 8,
      "outputs": []
    },
    {
      "cell_type": "code",
      "source": [
        "for i in range(1,11):\n",
        "  raf(i)"
      ],
      "metadata": {
        "colab": {
          "base_uri": "https://localhost:8080/"
        },
        "id": "4RjWrZHpWy-j",
        "outputId": "254dcbbe-8b1b-43e1-f4cc-555b555e36d3"
      },
      "execution_count": 9,
      "outputs": [
        {
          "output_type": "stream",
          "name": "stdout",
          "text": [
            "DP:  1\n",
            "1 0\n",
            "[1]\n",
            "DP:  2\n",
            "2 0\n",
            "1 1\n",
            "[5, 2]\n",
            "DP:  3\n",
            "3 0\n",
            "2 1\n",
            "1 2\n",
            "[8, 6, 6]\n",
            "DP:  4\n",
            "4 0\n",
            "3 1\n",
            "2 2\n",
            "1 3\n",
            "[10, 9, 10, 9]\n",
            "DP:  5\n",
            "5 0\n",
            "4 1\n",
            "3 2\n",
            "2 3\n",
            "1 4\n",
            "[15, 11, 13, 13, 11]\n",
            "DP:  6\n",
            "6 0\n",
            "5 1\n",
            "4 2\n",
            "3 3\n",
            "2 4\n",
            "1 5\n",
            "[15, 16, 15, 16, 15, 16]\n",
            "DP:  7\n",
            "7 0\n",
            "6 1\n",
            "5 2\n",
            "4 3\n",
            "3 4\n",
            "2 5\n",
            "1 6\n",
            "[13, 16, 20, 18, 18, 20, 17]\n",
            "DP:  8\n",
            "8 0\n",
            "7 1\n",
            "6 2\n",
            "5 3\n",
            "4 4\n",
            "3 5\n",
            "2 6\n",
            "1 7\n",
            "[20, 14, 20, 23, 20, 23, 21, 21]\n",
            "DP:  9\n",
            "9 0\n",
            "8 1\n",
            "7 2\n",
            "6 3\n",
            "5 4\n",
            "4 5\n",
            "3 6\n",
            "2 7\n",
            "1 8\n",
            "[24, 21, 18, 23, 25, 25, 24, 25, 24]\n",
            "DP:  10\n",
            "10 0\n",
            "9 1\n",
            "8 2\n",
            "7 3\n",
            "6 4\n",
            "5 5\n",
            "4 6\n",
            "3 7\n",
            "2 8\n",
            "1 9\n",
            "[15, 25, 25, 21, 25, 30, 26, 28, 28, 26]\n"
          ]
        }
      ]
    },
    {
      "cell_type": "code",
      "source": [
        "for i in range(1,7):\n",
        "  raf(i)"
      ],
      "metadata": {
        "colab": {
          "base_uri": "https://localhost:8080/"
        },
        "id": "dVRpRibFaIqh",
        "outputId": "6d9db657-af33-4555-c4f7-b1c0a84a1464"
      },
      "execution_count": 10,
      "outputs": [
        {
          "output_type": "stream",
          "name": "stdout",
          "text": [
            "DP:  1\n",
            "1 0\n",
            "[1]\n",
            "DP:  2\n",
            "2 0\n",
            "1 1\n",
            "[5, 2]\n",
            "DP:  3\n",
            "3 0\n",
            "2 1\n",
            "1 2\n",
            "[8, 6, 6]\n",
            "DP:  4\n",
            "4 0\n",
            "3 1\n",
            "2 2\n",
            "1 3\n",
            "[10, 9, 10, 9]\n",
            "DP:  5\n",
            "5 0\n",
            "4 1\n",
            "3 2\n",
            "2 3\n",
            "1 4\n",
            "[15, 11, 13, 13, 11]\n",
            "DP:  6\n",
            "6 0\n",
            "5 1\n",
            "4 2\n",
            "3 3\n",
            "2 4\n",
            "1 5\n",
            "[15, 16, 15, 16, 15, 16]\n"
          ]
        }
      ]
    },
    {
      "cell_type": "markdown",
      "source": [
        "#2nd Task\n"
      ],
      "metadata": {
        "id": "G2IzXsnvDoIb"
      }
    },
    {
      "cell_type": "code",
      "source": [
        "\n",
        "def raf2(coin,amount):\n",
        "  dic={}\n",
        "  amnt=[]\n",
        "  zeros=[1]\n",
        "  for i in range(amount+1):\n",
        "    amnt.append(i)\n",
        "    zeros.append(0)\n",
        "\n",
        "  zeros.pop(-1)\n",
        "\n",
        "\n",
        "  dic[\"a\"]=amnt\n",
        "  for i in coin:\n",
        "    dic[i]=[]\n",
        "  dic[0]=zeros\n",
        "\n",
        "\n",
        "  for i in range(1,len(coin)):\n",
        "    for j in range(len(amnt)):\n",
        "      if coin[i]>amnt[j]:\n",
        "        dic[coin[i]].append(dic[coin[i-1]][j])\n",
        "        \n",
        "      else:\n",
        "        c=coin[i-1]+ dic[coin[i]][amnt[j]-coin[i]]\n",
        "        dic[coin[i]].append(c)\n",
        "        \n",
        "  return dic\n"
      ],
      "metadata": {
        "id": "HCCV17whDsvk"
      },
      "execution_count": 11,
      "outputs": []
    },
    {
      "cell_type": "code",
      "source": [
        "coin=[0,1,3,5]\n",
        "amount=8\n",
        "dic=raf2(coin,amount)\n",
        "for i in dic:\n",
        "  print(i,dic[i])"
      ],
      "metadata": {
        "id": "LVxcEHYEDzpX"
      },
      "execution_count": null,
      "outputs": []
    }
  ]
}