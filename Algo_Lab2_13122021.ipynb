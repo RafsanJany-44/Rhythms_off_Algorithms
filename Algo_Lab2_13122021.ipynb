{
  "nbformat": 4,
  "nbformat_minor": 0,
  "metadata": {
    "colab": {
      "name": "Algo_Lab2_13122021.ipynb",
      "provenance": [],
      "include_colab_link": true
    },
    "kernelspec": {
      "name": "python3",
      "display_name": "Python 3"
    },
    "language_info": {
      "name": "python"
    }
  },
  "cells": [
    {
      "cell_type": "markdown",
      "metadata": {
        "id": "view-in-github",
        "colab_type": "text"
      },
      "source": [
        "<a href=\"https://colab.research.google.com/github/RafsanJany-44/Rhythms_off_Algorithms/blob/main/Algo_Lab2_13122021.ipynb\" target=\"_parent\"><img src=\"https://colab.research.google.com/assets/colab-badge.svg\" alt=\"Open In Colab\"/></a>"
      ]
    },
    {
      "cell_type": "markdown",
      "source": [
        "#<font color=\"red\">Task 1</font>"
      ],
      "metadata": {
        "id": "pUHnvyOa_B32"
      }
    },
    {
      "cell_type": "code",
      "source": [
        "def write_csv(fields,data,name):\n",
        "  import csv  \n",
        "  filename = name+\".csv\"\n",
        "  with open(filename, 'w') as csvfile:  \n",
        "      csvwriter = csv.writer(csvfile) \n",
        "      csvwriter.writerow(fields) \n",
        "      csvwriter.writerows(data)"
      ],
      "metadata": {
        "id": "G-Lr1M5WWjjg"
      },
      "execution_count": 58,
      "outputs": []
    },
    {
      "cell_type": "code",
      "execution_count": 61,
      "metadata": {
        "colab": {
          "base_uri": "https://localhost:8080/"
        },
        "id": "1nWMhjbcJeWI",
        "outputId": "857ad70d-f15f-477b-c7bf-3bfdaaf99736"
      },
      "outputs": [
        {
          "output_type": "stream",
          "name": "stdout",
          "text": [
            "10 10\n"
          ]
        }
      ],
      "source": [
        "rod=[1,2,3,4,5,6,7,8,9,10]\n",
        "price=[1,5,8,10,15,15,13,20,24,15]\n",
        "\n",
        "dict={\n",
        "    0:0,\n",
        "    1:1,\n",
        "    2:5,\n",
        "    3:8,\n",
        "    4:10,\n",
        "    5:15,\n",
        "    6:15,\n",
        "    7:13,\n",
        "    8:20,\n",
        "    9:24,\n",
        "    10:15\n",
        "}\n",
        "print(len(rod),len(price))"
      ]
    },
    {
      "cell_type": "code",
      "source": [
        "dp={\n",
        "    0:0,\n",
        "    1:1\n",
        "}"
      ],
      "metadata": {
        "id": "rCBoI9ExZ2ky"
      },
      "execution_count": 62,
      "outputs": []
    },
    {
      "cell_type": "code",
      "source": [
        "\n",
        "def raf(n):\n",
        "  \n",
        "  talika=[]\n",
        "  print(\"DP: \",n)\n",
        "  for i in range(n):\n",
        "    sum = dict[n-i]+dp[i]\n",
        "    print(n-i,i)\n",
        "    talika.append(sum)\n",
        "  print(talika)\n",
        "  dp[n]=max(talika) \n"
      ],
      "metadata": {
        "id": "ItvI9jXqRITt"
      },
      "execution_count": 63,
      "outputs": []
    },
    {
      "cell_type": "code",
      "source": [
        "for i in range(1,11):\n",
        "  raf(i)"
      ],
      "metadata": {
        "colab": {
          "base_uri": "https://localhost:8080/"
        },
        "id": "4RjWrZHpWy-j",
        "outputId": "4bdb2e5d-9cb4-4346-9306-1c71e90ffc27"
      },
      "execution_count": 64,
      "outputs": [
        {
          "output_type": "stream",
          "name": "stdout",
          "text": [
            "DP:  1\n",
            "1 0\n",
            "[1]\n",
            "DP:  2\n",
            "2 0\n",
            "1 1\n",
            "[5, 2]\n",
            "DP:  3\n",
            "3 0\n",
            "2 1\n",
            "1 2\n",
            "[8, 6, 6]\n",
            "DP:  4\n",
            "4 0\n",
            "3 1\n",
            "2 2\n",
            "1 3\n",
            "[10, 9, 10, 9]\n",
            "DP:  5\n",
            "5 0\n",
            "4 1\n",
            "3 2\n",
            "2 3\n",
            "1 4\n",
            "[15, 11, 13, 13, 11]\n",
            "DP:  6\n",
            "6 0\n",
            "5 1\n",
            "4 2\n",
            "3 3\n",
            "2 4\n",
            "1 5\n",
            "[15, 16, 15, 16, 15, 16]\n",
            "DP:  7\n",
            "7 0\n",
            "6 1\n",
            "5 2\n",
            "4 3\n",
            "3 4\n",
            "2 5\n",
            "1 6\n",
            "[13, 16, 20, 18, 18, 20, 17]\n",
            "DP:  8\n",
            "8 0\n",
            "7 1\n",
            "6 2\n",
            "5 3\n",
            "4 4\n",
            "3 5\n",
            "2 6\n",
            "1 7\n",
            "[20, 14, 20, 23, 20, 23, 21, 21]\n",
            "DP:  9\n",
            "9 0\n",
            "8 1\n",
            "7 2\n",
            "6 3\n",
            "5 4\n",
            "4 5\n",
            "3 6\n",
            "2 7\n",
            "1 8\n",
            "[24, 21, 18, 23, 25, 25, 24, 25, 24]\n",
            "DP:  10\n",
            "10 0\n",
            "9 1\n",
            "8 2\n",
            "7 3\n",
            "6 4\n",
            "5 5\n",
            "4 6\n",
            "3 7\n",
            "2 8\n",
            "1 9\n",
            "[15, 25, 25, 21, 25, 30, 26, 28, 28, 26]\n"
          ]
        }
      ]
    },
    {
      "cell_type": "markdown",
      "source": [
        "#<font color=\"red\">d)</font>"
      ],
      "metadata": {
        "id": "MPZprdj_U9E1"
      }
    },
    {
      "cell_type": "code",
      "source": [
        "\n",
        "data=[]\n",
        "fields=[\"Length\",\"Price\",\"P/i\"]\n",
        "for i in dp:\n",
        "  if i!=0:\n",
        "    temp=[i,dp[i],dp[i]/i]\n",
        "    data.append(temp)\n",
        "\n",
        "write_csv(fields,data,\"rod_cutting\")\n",
        "import pandas as pd\n",
        "pd.read_csv(\"rod_cutting.csv\")"
      ],
      "metadata": {
        "id": "A8SPJJOZU8R_",
        "outputId": "49acba84-1cfa-44b2-966e-6da4daea761a",
        "colab": {
          "base_uri": "https://localhost:8080/",
          "height": 322
        }
      },
      "execution_count": 66,
      "outputs": [
        {
          "output_type": "execute_result",
          "data": {
            "text/html": [
              "\n",
              "  <div id=\"df-4839f0b6-dad3-4941-b0db-5e778d152f33\">\n",
              "    <div class=\"colab-df-container\">\n",
              "      <div>\n",
              "<style scoped>\n",
              "    .dataframe tbody tr th:only-of-type {\n",
              "        vertical-align: middle;\n",
              "    }\n",
              "\n",
              "    .dataframe tbody tr th {\n",
              "        vertical-align: top;\n",
              "    }\n",
              "\n",
              "    .dataframe thead th {\n",
              "        text-align: right;\n",
              "    }\n",
              "</style>\n",
              "<table border=\"1\" class=\"dataframe\">\n",
              "  <thead>\n",
              "    <tr style=\"text-align: right;\">\n",
              "      <th></th>\n",
              "      <th>Length</th>\n",
              "      <th>Price</th>\n",
              "      <th>P/i</th>\n",
              "    </tr>\n",
              "  </thead>\n",
              "  <tbody>\n",
              "    <tr>\n",
              "      <th>0</th>\n",
              "      <td>1</td>\n",
              "      <td>1</td>\n",
              "      <td>1.000000</td>\n",
              "    </tr>\n",
              "    <tr>\n",
              "      <th>1</th>\n",
              "      <td>2</td>\n",
              "      <td>5</td>\n",
              "      <td>2.500000</td>\n",
              "    </tr>\n",
              "    <tr>\n",
              "      <th>2</th>\n",
              "      <td>3</td>\n",
              "      <td>8</td>\n",
              "      <td>2.666667</td>\n",
              "    </tr>\n",
              "    <tr>\n",
              "      <th>3</th>\n",
              "      <td>4</td>\n",
              "      <td>10</td>\n",
              "      <td>2.500000</td>\n",
              "    </tr>\n",
              "    <tr>\n",
              "      <th>4</th>\n",
              "      <td>5</td>\n",
              "      <td>15</td>\n",
              "      <td>3.000000</td>\n",
              "    </tr>\n",
              "    <tr>\n",
              "      <th>5</th>\n",
              "      <td>6</td>\n",
              "      <td>16</td>\n",
              "      <td>2.666667</td>\n",
              "    </tr>\n",
              "    <tr>\n",
              "      <th>6</th>\n",
              "      <td>7</td>\n",
              "      <td>20</td>\n",
              "      <td>2.857143</td>\n",
              "    </tr>\n",
              "    <tr>\n",
              "      <th>7</th>\n",
              "      <td>8</td>\n",
              "      <td>23</td>\n",
              "      <td>2.875000</td>\n",
              "    </tr>\n",
              "    <tr>\n",
              "      <th>8</th>\n",
              "      <td>9</td>\n",
              "      <td>25</td>\n",
              "      <td>2.777778</td>\n",
              "    </tr>\n",
              "    <tr>\n",
              "      <th>9</th>\n",
              "      <td>10</td>\n",
              "      <td>30</td>\n",
              "      <td>3.000000</td>\n",
              "    </tr>\n",
              "  </tbody>\n",
              "</table>\n",
              "</div>\n",
              "      <button class=\"colab-df-convert\" onclick=\"convertToInteractive('df-4839f0b6-dad3-4941-b0db-5e778d152f33')\"\n",
              "              title=\"Convert this dataframe to an interactive table.\"\n",
              "              style=\"display:none;\">\n",
              "        \n",
              "  <svg xmlns=\"http://www.w3.org/2000/svg\" height=\"24px\"viewBox=\"0 0 24 24\"\n",
              "       width=\"24px\">\n",
              "    <path d=\"M0 0h24v24H0V0z\" fill=\"none\"/>\n",
              "    <path d=\"M18.56 5.44l.94 2.06.94-2.06 2.06-.94-2.06-.94-.94-2.06-.94 2.06-2.06.94zm-11 1L8.5 8.5l.94-2.06 2.06-.94-2.06-.94L8.5 2.5l-.94 2.06-2.06.94zm10 10l.94 2.06.94-2.06 2.06-.94-2.06-.94-.94-2.06-.94 2.06-2.06.94z\"/><path d=\"M17.41 7.96l-1.37-1.37c-.4-.4-.92-.59-1.43-.59-.52 0-1.04.2-1.43.59L10.3 9.45l-7.72 7.72c-.78.78-.78 2.05 0 2.83L4 21.41c.39.39.9.59 1.41.59.51 0 1.02-.2 1.41-.59l7.78-7.78 2.81-2.81c.8-.78.8-2.07 0-2.86zM5.41 20L4 18.59l7.72-7.72 1.47 1.35L5.41 20z\"/>\n",
              "  </svg>\n",
              "      </button>\n",
              "      \n",
              "  <style>\n",
              "    .colab-df-container {\n",
              "      display:flex;\n",
              "      flex-wrap:wrap;\n",
              "      gap: 12px;\n",
              "    }\n",
              "\n",
              "    .colab-df-convert {\n",
              "      background-color: #E8F0FE;\n",
              "      border: none;\n",
              "      border-radius: 50%;\n",
              "      cursor: pointer;\n",
              "      display: none;\n",
              "      fill: #1967D2;\n",
              "      height: 32px;\n",
              "      padding: 0 0 0 0;\n",
              "      width: 32px;\n",
              "    }\n",
              "\n",
              "    .colab-df-convert:hover {\n",
              "      background-color: #E2EBFA;\n",
              "      box-shadow: 0px 1px 2px rgba(60, 64, 67, 0.3), 0px 1px 3px 1px rgba(60, 64, 67, 0.15);\n",
              "      fill: #174EA6;\n",
              "    }\n",
              "\n",
              "    [theme=dark] .colab-df-convert {\n",
              "      background-color: #3B4455;\n",
              "      fill: #D2E3FC;\n",
              "    }\n",
              "\n",
              "    [theme=dark] .colab-df-convert:hover {\n",
              "      background-color: #434B5C;\n",
              "      box-shadow: 0px 1px 3px 1px rgba(0, 0, 0, 0.15);\n",
              "      filter: drop-shadow(0px 1px 2px rgba(0, 0, 0, 0.3));\n",
              "      fill: #FFFFFF;\n",
              "    }\n",
              "  </style>\n",
              "\n",
              "      <script>\n",
              "        const buttonEl =\n",
              "          document.querySelector('#df-4839f0b6-dad3-4941-b0db-5e778d152f33 button.colab-df-convert');\n",
              "        buttonEl.style.display =\n",
              "          google.colab.kernel.accessAllowed ? 'block' : 'none';\n",
              "\n",
              "        async function convertToInteractive(key) {\n",
              "          const element = document.querySelector('#df-4839f0b6-dad3-4941-b0db-5e778d152f33');\n",
              "          const dataTable =\n",
              "            await google.colab.kernel.invokeFunction('convertToInteractive',\n",
              "                                                     [key], {});\n",
              "          if (!dataTable) return;\n",
              "\n",
              "          const docLinkHtml = 'Like what you see? Visit the ' +\n",
              "            '<a target=\"_blank\" href=https://colab.research.google.com/notebooks/data_table.ipynb>data table notebook</a>'\n",
              "            + ' to learn more about interactive tables.';\n",
              "          element.innerHTML = '';\n",
              "          dataTable['output_type'] = 'display_data';\n",
              "          await google.colab.output.renderOutput(dataTable, element);\n",
              "          const docLink = document.createElement('div');\n",
              "          docLink.innerHTML = docLinkHtml;\n",
              "          element.appendChild(docLink);\n",
              "        }\n",
              "      </script>\n",
              "    </div>\n",
              "  </div>\n",
              "  "
            ],
            "text/plain": [
              "   Length  Price       P/i\n",
              "0       1      1  1.000000\n",
              "1       2      5  2.500000\n",
              "2       3      8  2.666667\n",
              "3       4     10  2.500000\n",
              "4       5     15  3.000000\n",
              "5       6     16  2.666667\n",
              "6       7     20  2.857143\n",
              "7       8     23  2.875000\n",
              "8       9     25  2.777778\n",
              "9      10     30  3.000000"
            ]
          },
          "metadata": {},
          "execution_count": 66
        }
      ]
    },
    {
      "cell_type": "markdown",
      "source": [
        "#2nd Task\n"
      ],
      "metadata": {
        "id": "G2IzXsnvDoIb"
      }
    },
    {
      "cell_type": "code",
      "source": [
        "\n",
        "def raf2(coin,amount):\n",
        "  dic={}\n",
        "  amnt=[]\n",
        "  zeros=[1]\n",
        "  for i in range(amount+1):\n",
        "    amnt.append(i)\n",
        "    zeros.append(0)\n",
        "\n",
        "  zeros.pop(-1)\n",
        "\n",
        "    \n",
        "  dic[\"a\"]=amnt\n",
        "  \n",
        "  for i in coin:\n",
        "    dic[i]=[]\n",
        "  dic[0]=zeros\n",
        "\n",
        "  for i in range(1,len(coin)):\n",
        "    if coin[i]<amount:\n",
        "      for j in range(len(amnt)):\n",
        "        if coin[i]>amnt[j]:\n",
        "          dic[coin[i]].append(dic[coin[i-1]][j])\n",
        "          \n",
        "        else:\n",
        "          c=coin[i-1]+ dic[coin[i]][amnt[j]-coin[i]]\n",
        "          dic[coin[i]].append(c)\n",
        "    else:\n",
        "      dic[coin[i]].append(0)\n",
        "          \n",
        "  return dic\n"
      ],
      "metadata": {
        "id": "HCCV17whDsvk"
      },
      "execution_count": 1,
      "outputs": []
    },
    {
      "cell_type": "code",
      "source": [
        "coin=[0,1,3,5]#[0,2,5,10,50,100,200,501,997]\n",
        "amount=8\n",
        "dic=raf2(coin,amount)\n",
        "for i in dic:\n",
        "  print(i,dic[i])"
      ],
      "metadata": {
        "colab": {
          "base_uri": "https://localhost:8080/"
        },
        "id": "LVxcEHYEDzpX",
        "outputId": "e3e8be37-35c1-4370-d8bd-0f56c27901fa"
      },
      "execution_count": 49,
      "outputs": [
        {
          "output_type": "stream",
          "name": "stdout",
          "text": [
            "a [0, 1, 2, 3, 4, 5, 6, 7, 8]\n",
            "0 [1, 0, 0, 0, 0, 0, 0, 0, 0]\n",
            "1 [1, 1, 1, 1, 1, 1, 1, 1, 1]\n",
            "3 [1, 1, 1, 2, 2, 2, 3, 3, 3]\n",
            "5 [1, 1, 1, 2, 2, 4, 4, 4, 5]\n"
          ]
        }
      ]
    },
    {
      "cell_type": "markdown",
      "source": [
        "DP Table For Coin porblem"
      ],
      "metadata": {
        "id": "RUTq0pHSRHeI"
      }
    },
    {
      "cell_type": "code",
      "source": [
        "def write_csv(fields,data,name):\n",
        "  import csv  \n",
        "  filename = name+\".csv\"\n",
        "  with open(filename, 'w') as csvfile:  \n",
        "      csvwriter = csv.writer(csvfile) \n",
        "      csvwriter.writerow(fields) \n",
        "      csvwriter.writerows(data)\n",
        "\n",
        "def coin_table(dic):\n",
        "  data=[]\n",
        "  fields=[]\n",
        "  fields=dic['a']\n",
        "  fields.insert(0,\"COINS\")\n",
        "  data=[]\n",
        "  for i in dic:\n",
        "    if i!='a':\n",
        "      temp=dic[i]\n",
        "      temp.insert(0,i)\n",
        "      data.append(temp)\n",
        "  write_csv(fields,data,\"coin_dp_table\")\n",
        "\n",
        "coin_table(dic)\n",
        "import pandas as pd\n",
        "pd.read_csv(\"coin_dp_table.csv\")\n"
      ],
      "metadata": {
        "colab": {
          "base_uri": "https://localhost:8080/",
          "height": 192
        },
        "id": "FuWlK5wHKBwV",
        "outputId": "2f027449-ac53-4e8d-c904-4bc4b2f40c6b"
      },
      "execution_count": 50,
      "outputs": [
        {
          "output_type": "execute_result",
          "data": {
            "text/html": [
              "\n",
              "  <div id=\"df-c7d7e400-e71c-4316-ac5e-120d325e99f5\">\n",
              "    <div class=\"colab-df-container\">\n",
              "      <div>\n",
              "<style scoped>\n",
              "    .dataframe tbody tr th:only-of-type {\n",
              "        vertical-align: middle;\n",
              "    }\n",
              "\n",
              "    .dataframe tbody tr th {\n",
              "        vertical-align: top;\n",
              "    }\n",
              "\n",
              "    .dataframe thead th {\n",
              "        text-align: right;\n",
              "    }\n",
              "</style>\n",
              "<table border=\"1\" class=\"dataframe\">\n",
              "  <thead>\n",
              "    <tr style=\"text-align: right;\">\n",
              "      <th></th>\n",
              "      <th>COINS</th>\n",
              "      <th>0</th>\n",
              "      <th>1</th>\n",
              "      <th>2</th>\n",
              "      <th>3</th>\n",
              "      <th>4</th>\n",
              "      <th>5</th>\n",
              "      <th>6</th>\n",
              "      <th>7</th>\n",
              "      <th>8</th>\n",
              "    </tr>\n",
              "  </thead>\n",
              "  <tbody>\n",
              "    <tr>\n",
              "      <th>0</th>\n",
              "      <td>0</td>\n",
              "      <td>1</td>\n",
              "      <td>0</td>\n",
              "      <td>0</td>\n",
              "      <td>0</td>\n",
              "      <td>0</td>\n",
              "      <td>0</td>\n",
              "      <td>0</td>\n",
              "      <td>0</td>\n",
              "      <td>0</td>\n",
              "    </tr>\n",
              "    <tr>\n",
              "      <th>1</th>\n",
              "      <td>1</td>\n",
              "      <td>1</td>\n",
              "      <td>1</td>\n",
              "      <td>1</td>\n",
              "      <td>1</td>\n",
              "      <td>1</td>\n",
              "      <td>1</td>\n",
              "      <td>1</td>\n",
              "      <td>1</td>\n",
              "      <td>1</td>\n",
              "    </tr>\n",
              "    <tr>\n",
              "      <th>2</th>\n",
              "      <td>3</td>\n",
              "      <td>1</td>\n",
              "      <td>1</td>\n",
              "      <td>1</td>\n",
              "      <td>2</td>\n",
              "      <td>2</td>\n",
              "      <td>2</td>\n",
              "      <td>3</td>\n",
              "      <td>3</td>\n",
              "      <td>3</td>\n",
              "    </tr>\n",
              "    <tr>\n",
              "      <th>3</th>\n",
              "      <td>5</td>\n",
              "      <td>1</td>\n",
              "      <td>1</td>\n",
              "      <td>1</td>\n",
              "      <td>2</td>\n",
              "      <td>2</td>\n",
              "      <td>4</td>\n",
              "      <td>4</td>\n",
              "      <td>4</td>\n",
              "      <td>5</td>\n",
              "    </tr>\n",
              "  </tbody>\n",
              "</table>\n",
              "</div>\n",
              "      <button class=\"colab-df-convert\" onclick=\"convertToInteractive('df-c7d7e400-e71c-4316-ac5e-120d325e99f5')\"\n",
              "              title=\"Convert this dataframe to an interactive table.\"\n",
              "              style=\"display:none;\">\n",
              "        \n",
              "  <svg xmlns=\"http://www.w3.org/2000/svg\" height=\"24px\"viewBox=\"0 0 24 24\"\n",
              "       width=\"24px\">\n",
              "    <path d=\"M0 0h24v24H0V0z\" fill=\"none\"/>\n",
              "    <path d=\"M18.56 5.44l.94 2.06.94-2.06 2.06-.94-2.06-.94-.94-2.06-.94 2.06-2.06.94zm-11 1L8.5 8.5l.94-2.06 2.06-.94-2.06-.94L8.5 2.5l-.94 2.06-2.06.94zm10 10l.94 2.06.94-2.06 2.06-.94-2.06-.94-.94-2.06-.94 2.06-2.06.94z\"/><path d=\"M17.41 7.96l-1.37-1.37c-.4-.4-.92-.59-1.43-.59-.52 0-1.04.2-1.43.59L10.3 9.45l-7.72 7.72c-.78.78-.78 2.05 0 2.83L4 21.41c.39.39.9.59 1.41.59.51 0 1.02-.2 1.41-.59l7.78-7.78 2.81-2.81c.8-.78.8-2.07 0-2.86zM5.41 20L4 18.59l7.72-7.72 1.47 1.35L5.41 20z\"/>\n",
              "  </svg>\n",
              "      </button>\n",
              "      \n",
              "  <style>\n",
              "    .colab-df-container {\n",
              "      display:flex;\n",
              "      flex-wrap:wrap;\n",
              "      gap: 12px;\n",
              "    }\n",
              "\n",
              "    .colab-df-convert {\n",
              "      background-color: #E8F0FE;\n",
              "      border: none;\n",
              "      border-radius: 50%;\n",
              "      cursor: pointer;\n",
              "      display: none;\n",
              "      fill: #1967D2;\n",
              "      height: 32px;\n",
              "      padding: 0 0 0 0;\n",
              "      width: 32px;\n",
              "    }\n",
              "\n",
              "    .colab-df-convert:hover {\n",
              "      background-color: #E2EBFA;\n",
              "      box-shadow: 0px 1px 2px rgba(60, 64, 67, 0.3), 0px 1px 3px 1px rgba(60, 64, 67, 0.15);\n",
              "      fill: #174EA6;\n",
              "    }\n",
              "\n",
              "    [theme=dark] .colab-df-convert {\n",
              "      background-color: #3B4455;\n",
              "      fill: #D2E3FC;\n",
              "    }\n",
              "\n",
              "    [theme=dark] .colab-df-convert:hover {\n",
              "      background-color: #434B5C;\n",
              "      box-shadow: 0px 1px 3px 1px rgba(0, 0, 0, 0.15);\n",
              "      filter: drop-shadow(0px 1px 2px rgba(0, 0, 0, 0.3));\n",
              "      fill: #FFFFFF;\n",
              "    }\n",
              "  </style>\n",
              "\n",
              "      <script>\n",
              "        const buttonEl =\n",
              "          document.querySelector('#df-c7d7e400-e71c-4316-ac5e-120d325e99f5 button.colab-df-convert');\n",
              "        buttonEl.style.display =\n",
              "          google.colab.kernel.accessAllowed ? 'block' : 'none';\n",
              "\n",
              "        async function convertToInteractive(key) {\n",
              "          const element = document.querySelector('#df-c7d7e400-e71c-4316-ac5e-120d325e99f5');\n",
              "          const dataTable =\n",
              "            await google.colab.kernel.invokeFunction('convertToInteractive',\n",
              "                                                     [key], {});\n",
              "          if (!dataTable) return;\n",
              "\n",
              "          const docLinkHtml = 'Like what you see? Visit the ' +\n",
              "            '<a target=\"_blank\" href=https://colab.research.google.com/notebooks/data_table.ipynb>data table notebook</a>'\n",
              "            + ' to learn more about interactive tables.';\n",
              "          element.innerHTML = '';\n",
              "          dataTable['output_type'] = 'display_data';\n",
              "          await google.colab.output.renderOutput(dataTable, element);\n",
              "          const docLink = document.createElement('div');\n",
              "          docLink.innerHTML = docLinkHtml;\n",
              "          element.appendChild(docLink);\n",
              "        }\n",
              "      </script>\n",
              "    </div>\n",
              "  </div>\n",
              "  "
            ],
            "text/plain": [
              "   COINS  0  1  2  3  4  5  6  7  8\n",
              "0      0  1  0  0  0  0  0  0  0  0\n",
              "1      1  1  1  1  1  1  1  1  1  1\n",
              "2      3  1  1  1  2  2  2  3  3  3\n",
              "3      5  1  1  1  2  2  4  4  4  5"
            ]
          },
          "metadata": {},
          "execution_count": 50
        }
      ]
    },
    {
      "cell_type": "code",
      "source": [
        "\n",
        "\n",
        "\n",
        "\n",
        "\n"
      ],
      "metadata": {
        "id": "QbSq8phgI846"
      },
      "execution_count": null,
      "outputs": []
    },
    {
      "cell_type": "code",
      "source": [
        ""
      ],
      "metadata": {
        "id": "Uz9HXJHtNEib"
      },
      "execution_count": null,
      "outputs": []
    },
    {
      "cell_type": "markdown",
      "source": [
        "Using the same sets of coins (2,5,10,50,100,200,501,997), can the value 10 be con- structed? Use the DP table you already constructed in the previous answer.<br><br>\n",
        "\n",
        "ConstructanotherDPtableusingthesesetsofcoinvalues(1,2,5,10,50,100,200,500,1000). Now try to construct these total values: 37, 72, 101, 7.\n",
        "<br>\n",
        "https://lightoj.com/problem/coin-change-iii"
      ],
      "metadata": {
        "id": "s6RWN42TOCWE"
      }
    }
  ]
}