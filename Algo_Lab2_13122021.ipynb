{
  "nbformat": 4,
  "nbformat_minor": 0,
  "metadata": {
    "colab": {
      "name": "Algo_Lab2_13122021.ipynb",
      "provenance": [],
      "authorship_tag": "ABX9TyO/RTIf+9vWmqjOMUebd9Mx",
      "include_colab_link": true
    },
    "kernelspec": {
      "name": "python3",
      "display_name": "Python 3"
    },
    "language_info": {
      "name": "python"
    }
  },
  "cells": [
    {
      "cell_type": "markdown",
      "metadata": {
        "id": "view-in-github",
        "colab_type": "text"
      },
      "source": [
        "<a href=\"https://colab.research.google.com/github/RafsanJany-44/Rhythms_off_Algorithms/blob/main/Algo_Lab2_13122021.ipynb\" target=\"_parent\"><img src=\"https://colab.research.google.com/assets/colab-badge.svg\" alt=\"Open In Colab\"/></a>"
      ]
    },
    {
      "cell_type": "markdown",
      "source": [
        "#Dynamic Programing"
      ],
      "metadata": {
        "id": "pUHnvyOa_B32"
      }
    },
    {
      "cell_type": "code",
      "execution_count": null,
      "metadata": {
        "colab": {
          "base_uri": "https://localhost:8080/"
        },
        "id": "1nWMhjbcJeWI",
        "outputId": "0c7ee733-da29-48cd-fa6a-7333d5d89195"
      },
      "outputs": [
        {
          "output_type": "stream",
          "name": "stdout",
          "text": [
            "10 10\n"
          ]
        }
      ],
      "source": [
        "rod=[1,2,3,4,5,6,7,8,9,10]\n",
        "price=[1,5,8,10,15,15,13,20,24,15]\n",
        "\n",
        "dict={\n",
        "    0:0,\n",
        "    1:1,\n",
        "    2:5,\n",
        "    3:8,\n",
        "    4:10,\n",
        "    5:15,\n",
        "    6:15,\n",
        "    7:13,\n",
        "    8:20,\n",
        "    9:24,\n",
        "    10:15\n",
        "}\n",
        "print(len(rod),len(price))"
      ]
    },
    {
      "cell_type": "code",
      "source": [
        "dp={\n",
        "    0:0,\n",
        "    1:1\n",
        "}"
      ],
      "metadata": {
        "id": "rCBoI9ExZ2ky"
      },
      "execution_count": null,
      "outputs": []
    },
    {
      "cell_type": "code",
      "source": [
        "\n",
        "def raf(n):\n",
        "  talika=[]\n",
        "  print(\"DP: \",n)\n",
        "  for i in range(n):\n",
        "    sum = dict[n-i]+dp[i]\n",
        "    print(n-i,i)\n",
        "    talika.append(sum)\n",
        "  print(talika)\n",
        "  dp[n]=max(talika) \n"
      ],
      "metadata": {
        "id": "ItvI9jXqRITt"
      },
      "execution_count": null,
      "outputs": []
    },
    {
      "cell_type": "code",
      "source": [
        "for i in range(1,11):\n",
        "  raf(i)"
      ],
      "metadata": {
        "colab": {
          "base_uri": "https://localhost:8080/"
        },
        "id": "4RjWrZHpWy-j",
        "outputId": "1d39631a-9d27-4185-a3bb-3e1d0b00eafb"
      },
      "execution_count": null,
      "outputs": [
        {
          "output_type": "stream",
          "name": "stdout",
          "text": [
            "DP:  1\n",
            "1 0\n",
            "[1]\n",
            "DP:  2\n",
            "2 0\n",
            "1 1\n",
            "[5, 2]\n",
            "DP:  3\n",
            "3 0\n",
            "2 1\n",
            "1 2\n",
            "[8, 6, 6]\n",
            "DP:  4\n",
            "4 0\n",
            "3 1\n",
            "2 2\n",
            "1 3\n",
            "[10, 9, 10, 9]\n",
            "DP:  5\n",
            "5 0\n",
            "4 1\n",
            "3 2\n",
            "2 3\n",
            "1 4\n",
            "[15, 11, 13, 13, 11]\n",
            "DP:  6\n",
            "6 0\n",
            "5 1\n",
            "4 2\n",
            "3 3\n",
            "2 4\n",
            "1 5\n",
            "[15, 16, 15, 16, 15, 16]\n",
            "DP:  7\n",
            "7 0\n",
            "6 1\n",
            "5 2\n",
            "4 3\n",
            "3 4\n",
            "2 5\n",
            "1 6\n",
            "[13, 16, 20, 18, 18, 20, 17]\n",
            "DP:  8\n",
            "8 0\n",
            "7 1\n",
            "6 2\n",
            "5 3\n",
            "4 4\n",
            "3 5\n",
            "2 6\n",
            "1 7\n",
            "[20, 14, 20, 23, 20, 23, 21, 21]\n",
            "DP:  9\n",
            "9 0\n",
            "8 1\n",
            "7 2\n",
            "6 3\n",
            "5 4\n",
            "4 5\n",
            "3 6\n",
            "2 7\n",
            "1 8\n",
            "[24, 21, 18, 23, 25, 25, 24, 25, 24]\n",
            "DP:  10\n",
            "10 0\n",
            "9 1\n",
            "8 2\n",
            "7 3\n",
            "6 4\n",
            "5 5\n",
            "4 6\n",
            "3 7\n",
            "2 8\n",
            "1 9\n",
            "[15, 25, 25, 21, 25, 30, 26, 28, 28, 26]\n"
          ]
        }
      ]
    },
    {
      "cell_type": "code",
      "source": [
        "print(dp)"
      ],
      "metadata": {
        "colab": {
          "base_uri": "https://localhost:8080/"
        },
        "id": "5pxQBrnpW88B",
        "outputId": "51b8ce9c-21fd-4843-f2a7-c417701f2fa3"
      },
      "execution_count": null,
      "outputs": [
        {
          "output_type": "stream",
          "name": "stdout",
          "text": [
            "{0: 0, 1: 1, 2: 5, 3: 8, 4: 10, 5: 15, 6: 16, 7: 20, 8: 23, 9: 25, 10: 30}\n"
          ]
        }
      ]
    },
    {
      "cell_type": "code",
      "source": [
        "for i in range(1,7):\n",
        "  raf(i)"
      ],
      "metadata": {
        "colab": {
          "base_uri": "https://localhost:8080/"
        },
        "id": "dVRpRibFaIqh",
        "outputId": "09e5e4e9-ecf8-4ccf-b0ad-46412893de95"
      },
      "execution_count": null,
      "outputs": [
        {
          "output_type": "stream",
          "name": "stdout",
          "text": [
            "DP:  1\n",
            "1 0\n",
            "[1]\n",
            "DP:  2\n",
            "2 0\n",
            "1 1\n",
            "[5, 2]\n",
            "DP:  3\n",
            "3 0\n",
            "2 1\n",
            "1 2\n",
            "[8, 6, 6]\n",
            "DP:  4\n",
            "4 0\n",
            "3 1\n",
            "2 2\n",
            "1 3\n",
            "[10, 9, 10, 9]\n",
            "DP:  5\n",
            "5 0\n",
            "4 1\n",
            "3 2\n",
            "2 3\n",
            "1 4\n",
            "[15, 11, 13, 13, 11]\n",
            "DP:  6\n",
            "6 0\n",
            "5 1\n",
            "4 2\n",
            "3 3\n",
            "2 4\n",
            "1 5\n",
            "[15, 16, 15, 16, 15, 16]\n"
          ]
        }
      ]
    }
  ]
}