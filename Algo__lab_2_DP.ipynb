{
  "cells": [
    {
      "cell_type": "markdown",
      "metadata": {
        "colab_type": "text",
        "id": "view-in-github"
      },
      "source": [
        "<a href=\"https://colab.research.google.com/github/RafsanJany-44/Rhythms_off_Algorithms/blob/main/Algo__lab_2_DP.ipynb\" target=\"_parent\"><img src=\"https://colab.research.google.com/assets/colab-badge.svg\" alt=\"Open In Colab\"/></a>"
      ]
    },
    {
      "cell_type": "markdown",
      "metadata": {
        "id": "eww8PLAf-nom"
      },
      "source": []
    },
    {
      "cell_type": "code",
      "execution_count": 1,
      "metadata": {
        "colab": {
          "base_uri": "https://localhost:8080/"
        },
        "id": "a0m-uMJXQvpx",
        "outputId": "0274888b-0e22-4ad9-f638-fb3eaec25711"
      },
      "outputs": [
        {
          "name": "stdout",
          "output_type": "stream",
          "text": [
            "[0, 1, 2, 3, 4, 5, 6, 7, 8]\n",
            "[0, 1, 0, 0, 0, 0, 0, 0, 0, 0]\n"
          ]
        }
      ],
      "source": [
        "coin=[1,3,5]\n",
        "amount=8\n",
        "table=[]\n",
        "head=[]\n",
        "zeros=[0,1]\n",
        "for i in range(amount+1):\n",
        "  head.append(i)\n",
        "  zeros.append(0)\n",
        "zeros.pop(-1)\n",
        "\n",
        "print(head)\n",
        "print(zeros)\n"
      ]
    },
    {
      "cell_type": "code",
      "execution_count": null,
      "metadata": {
        "colab": {
          "base_uri": "https://localhost:8080/"
        },
        "id": "5SP9z8o7EEAn",
        "outputId": "e072c846-281c-4364-f7b8-c932062d9fbf"
      },
      "outputs": [
        {
          "name": "stdout",
          "output_type": "stream",
          "text": [
            "{'h': [0, 1, 2, 3, 4, 5, 6, 7, 8], 0: [0, 1, 0, 0, 0, 0, 0, 0, 0]}\n"
          ]
        }
      ],
      "source": [
        "dict={}\n",
        "coin=[1,3,5]\n",
        "amount=8\n",
        "\n",
        "head=[]\n",
        "zeros=[0,1]\n",
        "for i in range(amount+1):\n",
        "  head.append(i)\n",
        "  zeros.append(0)\n",
        "zeros.pop(-1)\n",
        "zeros.pop(-2)\n",
        "dict[\"h\"]=head\n",
        "dict[0]=zeros\n",
        "print(dict)"
      ]
    },
    {
      "cell_type": "code",
      "execution_count": null,
      "metadata": {
        "colab": {
          "base_uri": "https://localhost:8080/"
        },
        "id": "RaqrgHTkZyTy",
        "outputId": "6c3471f3-5437-469b-8049-729da2f9e6bc"
      },
      "outputs": [
        {
          "name": "stdout",
          "output_type": "stream",
          "text": [
            "[0, 1, 2, 3, 4, 5, 6, 7, 8, 100]\n",
            "{'h': [0, 1, 2, 3, 4, 5, 6, 7, 8, 100], 0: [0, 1, 0, 0, 0, 0, 0, 0, 0]}\n"
          ]
        }
      ],
      "source": [
        "key=list(dict.keys())\n",
        "val=list(dict.values())\n",
        "val[0].append(100)\n",
        "print(val[0])\n",
        "print(dict)"
      ]
    },
    {
      "cell_type": "code",
      "execution_count": null,
      "metadata": {
        "colab": {
          "base_uri": "https://localhost:8080/"
        },
        "id": "uFOr2tmP-90r",
        "outputId": "477bf929-1ad4-4a82-9e92-77aad5aa77b8"
      },
      "outputs": [
        {
          "name": "stdout",
          "output_type": "stream",
          "text": [
            "h [0, 1, 2, 3, 4, 5, 6, 7, 8, 100]\n",
            "0 [0, 1, 0, 0, 0, 0, 0, 0, 0]\n"
          ]
        }
      ],
      "source": [
        "for i in dict:\n",
        "  print(i,dict[i])"
      ]
    },
    {
      "cell_type": "code",
      "execution_count": 61,
      "metadata": {
        "colab": {
          "base_uri": "https://localhost:8080/"
        },
        "id": "zjESl7jA-_R2",
        "outputId": "533ff8e6-6e90-4154-bdcb-71f751291d6e"
      },
      "outputs": [
        {
          "name": "stdout",
          "output_type": "stream",
          "text": [
            "{0: [1, 0, 0, 0, 0, 0, 0, 0, 0], 1: [1, 1, 1, 1, 1, 1, 1, 1, 1], 3: [1, 1, 1, 2, 2, 2, 3, 3, 3], 5: [1, 1, 1, 2, 2, 4, 4, 4, 5]}\n"
          ]
        }
      ],
      "source": [
        "dict={}\n",
        "dic={}\n",
        "coin=[0,1,3,5]\n",
        "amount=8\n",
        "\n",
        "amnt=[]\n",
        "zeros=[1]\n",
        "for i in range(amount+1):\n",
        "  amnt.append(i)\n",
        "  zeros.append(0)\n",
        "\n",
        "zeros.pop(-1)\n",
        "\n",
        "dict[\"a\"]=amnt\n",
        "dict[0]=zeros\n",
        "\n",
        "\n",
        "for i in coin:\n",
        "  dic[i]=[]\n",
        "dic[0]=zeros\n",
        "\n",
        "\n",
        "for i in range(1,len(coin)):\n",
        "  for j in range(len(amnt)):\n",
        "    if coin[i]>amnt[j]:\n",
        "      dic[coin[i]].append(dic[coin[i-1]][j])\n",
        "      \n",
        "    else:\n",
        "      c=coin[i-1]+ dic[coin[i]][amnt[j]-coin[i]]\n",
        "      dic[coin[i]].append(c)\n",
        "      \n",
        "\n",
        "\n",
        "  \n",
        "\n",
        "\n",
        "\n",
        "\n",
        "\n",
        "print(dic)\n",
        "\n",
        "\n"
      ]
    },
    {
      "cell_type": "code",
      "execution_count": 62,
      "metadata": {
        "colab": {
          "base_uri": "https://localhost:8080/"
        },
        "id": "Q4dtdHHb-_KW",
        "outputId": "fb27fd90-d88d-40c2-d6b9-45cdf1ba054f"
      },
      "outputs": [
        {
          "name": "stdout",
          "output_type": "stream",
          "text": [
            "0 [1, 0, 0, 0, 0, 0, 0, 0, 0]\n",
            "1 [1, 1, 1, 1, 1, 1, 1, 1, 1]\n",
            "3 [1, 1, 1, 2, 2, 2, 3, 3, 3]\n",
            "5 [1, 1, 1, 2, 2, 4, 4, 4, 5]\n"
          ]
        }
      ],
      "source": [
        "for i in dic:\n",
        "  print(i,dic[i])\n"
      ]
    },
    {
      "cell_type": "code",
      "execution_count": null,
      "metadata": {
        "id": "j1R0DX87-_ED"
      },
      "outputs": [],
      "source": []
    },
    {
      "cell_type": "code",
      "execution_count": null,
      "metadata": {
        "id": "rUfPeqUM-9vu"
      },
      "outputs": [],
      "source": []
    },
    {
      "cell_type": "code",
      "execution_count": null,
      "metadata": {
        "id": "9Q-1Zqtx-9p2"
      },
      "outputs": [],
      "source": []
    },
    {
      "cell_type": "code",
      "execution_count": null,
      "metadata": {
        "id": "dQb3HxkW-9j7"
      },
      "outputs": [],
      "source": []
    },
    {
      "cell_type": "code",
      "execution_count": null,
      "metadata": {
        "id": "FMr5vldL-9hs"
      },
      "outputs": [],
      "source": []
    },
    {
      "cell_type": "code",
      "execution_count": null,
      "metadata": {
        "id": "caWwVn4G-9WN"
      },
      "outputs": [],
      "source": []
    },
    {
      "cell_type": "code",
      "execution_count": null,
      "metadata": {
        "id": "bUBaDl_y-9Qs"
      },
      "outputs": [],
      "source": []
    },
    {
      "cell_type": "code",
      "execution_count": null,
      "metadata": {
        "id": "iE9g_3Hl-9J-"
      },
      "outputs": [],
      "source": []
    },
    {
      "cell_type": "code",
      "execution_count": null,
      "metadata": {
        "id": "QJAnb1VD-9Cz"
      },
      "outputs": [],
      "source": []
    },
    {
      "cell_type": "code",
      "execution_count": null,
      "metadata": {
        "id": "9frI7eum-8_z"
      },
      "outputs": [],
      "source": []
    },
    {
      "cell_type": "code",
      "execution_count": null,
      "metadata": {
        "id": "mUpbODwM2GcA"
      },
      "outputs": [],
      "source": []
    },
    {
      "cell_type": "code",
      "execution_count": null,
      "metadata": {
        "id": "EcDTzoGS2GPz"
      },
      "outputs": [],
      "source": []
    }
  ],
  "metadata": {
    "colab": {
      "authorship_tag": "ABX9TyOYQxTIuQi2qgkuOrsk5HTO",
      "include_colab_link": true,
      "name": "Algo _lab_2_DP.ipynb",
      "provenance": []
    },
    "kernelspec": {
      "display_name": "Python 3",
      "name": "python3"
    },
    "language_info": {
      "codemirror_mode": {
        "name": "ipython",
        "version": 3
      },
      "file_extension": ".py",
      "mimetype": "text/x-python",
      "name": "python",
      "nbconvert_exporter": "python",
      "pygments_lexer": "ipython3",
      "version": "3.7.4"
    }
  },
  "nbformat": 4,
  "nbformat_minor": 0
}
