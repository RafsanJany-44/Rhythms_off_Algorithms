{
  "nbformat": 4,
  "nbformat_minor": 0,
  "metadata": {
    "colab": {
      "name": "Algo _lab_2_DP.ipynb",
      "provenance": [],
      "authorship_tag": "ABX9TyO5Pfu+CLIDccbu0DGqyyzX",
      "include_colab_link": true
    },
    "kernelspec": {
      "name": "python3",
      "display_name": "Python 3"
    },
    "language_info": {
      "name": "python"
    }
  },
  "cells": [
    {
      "cell_type": "markdown",
      "metadata": {
        "id": "view-in-github",
        "colab_type": "text"
      },
      "source": [
        "<a href=\"https://colab.research.google.com/github/RafsanJany-44/Rhythms_off_Algorithms/blob/main/Algo__lab_2_DP.ipynb\" target=\"_parent\"><img src=\"https://colab.research.google.com/assets/colab-badge.svg\" alt=\"Open In Colab\"/></a>"
      ]
    },
    {
      "cell_type": "markdown",
      "source": [
        ""
      ],
      "metadata": {
        "id": "eww8PLAf-nom"
      }
    },
    {
      "cell_type": "code",
      "execution_count": null,
      "metadata": {
        "colab": {
          "base_uri": "https://localhost:8080/"
        },
        "id": "a0m-uMJXQvpx",
        "outputId": "0274888b-0e22-4ad9-f638-fb3eaec25711"
      },
      "outputs": [
        {
          "output_type": "stream",
          "name": "stdout",
          "text": [
            "[0, 1, 2, 3, 4, 5, 6, 7, 8]\n",
            "[0, 1, 0, 0, 0, 0, 0, 0, 0, 0]\n"
          ]
        }
      ],
      "source": [
        "coin=[1,3,5]\n",
        "amount=8\n",
        "table=[]\n",
        "head=[]\n",
        "zeros=[0,1]\n",
        "for i in range(amount+1):\n",
        "  head.append(i)\n",
        "  zeros.append(0)\n",
        "zeros.pop(-1)\n",
        "\n",
        "print(head)\n",
        "print(zeros)\n"
      ]
    },
    {
      "cell_type": "code",
      "source": [
        "dict={}\n",
        "coin=[1,3,5]\n",
        "amount=8\n",
        "\n",
        "head=[]\n",
        "zeros=[0,1]\n",
        "for i in range(amount+1):\n",
        "  head.append(i)\n",
        "  zeros.append(0)\n",
        "zeros.pop(-1)\n",
        "zeros.pop(-2)\n",
        "dict[\"h\"]=head\n",
        "dict[0]=zeros\n",
        "print(dict)"
      ],
      "metadata": {
        "colab": {
          "base_uri": "https://localhost:8080/"
        },
        "id": "5SP9z8o7EEAn",
        "outputId": "e072c846-281c-4364-f7b8-c932062d9fbf"
      },
      "execution_count": null,
      "outputs": [
        {
          "output_type": "stream",
          "name": "stdout",
          "text": [
            "{'h': [0, 1, 2, 3, 4, 5, 6, 7, 8], 0: [0, 1, 0, 0, 0, 0, 0, 0, 0]}\n"
          ]
        }
      ]
    },
    {
      "cell_type": "code",
      "source": [
        "key=list(dict.keys())\n",
        "val=list(dict.values())\n",
        "val[0].append(100)\n",
        "print(val[0])\n",
        "print(dict)"
      ],
      "metadata": {
        "colab": {
          "base_uri": "https://localhost:8080/"
        },
        "id": "RaqrgHTkZyTy",
        "outputId": "6c3471f3-5437-469b-8049-729da2f9e6bc"
      },
      "execution_count": null,
      "outputs": [
        {
          "output_type": "stream",
          "name": "stdout",
          "text": [
            "[0, 1, 2, 3, 4, 5, 6, 7, 8, 100]\n",
            "{'h': [0, 1, 2, 3, 4, 5, 6, 7, 8, 100], 0: [0, 1, 0, 0, 0, 0, 0, 0, 0]}\n"
          ]
        }
      ]
    },
    {
      "cell_type": "code",
      "source": [
        "for i in dict:\n",
        "  print(i,dict[i])"
      ],
      "metadata": {
        "colab": {
          "base_uri": "https://localhost:8080/"
        },
        "id": "uFOr2tmP-90r",
        "outputId": "477bf929-1ad4-4a82-9e92-77aad5aa77b8"
      },
      "execution_count": null,
      "outputs": [
        {
          "output_type": "stream",
          "name": "stdout",
          "text": [
            "h [0, 1, 2, 3, 4, 5, 6, 7, 8, 100]\n",
            "0 [0, 1, 0, 0, 0, 0, 0, 0, 0]\n"
          ]
        }
      ]
    },
    {
      "cell_type": "code",
      "source": [
        "dict={}\n",
        "dic={}\n",
        "coin=[0,1,3,5]\n",
        "amount=8\n",
        "\n",
        "amnt=[]\n",
        "zeros=[1]\n",
        "for i in range(amount+1):\n",
        "  amnt.append(i)\n",
        "  zeros.append(0)\n",
        "\n",
        "zeros.pop(-1)\n",
        "zeros.pop(-2)\n",
        "dict[\"a\"]=amnt\n",
        "dict[0]=zeros\n",
        "\n",
        "\n",
        "for i in coin:\n",
        "  dic[i]=[]\n",
        "dic[0]=zeros\n",
        "\n",
        "\n",
        "for i in range(1,len(coin)):\n",
        "  for j in range(len(amnt)-1):\n",
        "    if coin[i]>amnt[j]:\n",
        "      dic[coin[i]].append(dic[coin[i-1]][j])\n",
        "      \n",
        "    else:\n",
        "      c=coin[i-1]+ dic[coin[i]][amnt[j]-coin[i]]\n",
        "     # print(c)\n",
        "      dic[coin[i]].append(c)\n",
        "      \n",
        "\n",
        "\n",
        "  \n",
        "\n",
        "\n",
        "\n",
        "\n",
        "\n",
        "print(dic)\n",
        "\n",
        "\n"
      ],
      "metadata": {
        "id": "zjESl7jA-_R2",
        "colab": {
          "base_uri": "https://localhost:8080/"
        },
        "outputId": "e789a604-576d-4723-e4e9-6874081ff2df"
      },
      "execution_count": 56,
      "outputs": [
        {
          "output_type": "stream",
          "name": "stdout",
          "text": [
            "{0: [1, 0, 0, 0, 0, 0, 0, 0], 1: [1, 1, 1, 1, 1, 1, 1, 1], 3: [1, 1, 1, 2, 2, 2, 3, 3], 5: [1, 1, 1, 2, 2, 4, 4, 4]}\n"
          ]
        }
      ]
    },
    {
      "cell_type": "code",
      "source": [
        "print(dic)\n",
        "\n",
        "\n"
      ],
      "metadata": {
        "id": "Q4dtdHHb-_KW",
        "colab": {
          "base_uri": "https://localhost:8080/"
        },
        "outputId": "e5e0238c-3df6-497e-a767-30dabacd8c29"
      },
      "execution_count": 57,
      "outputs": [
        {
          "output_type": "stream",
          "name": "stdout",
          "text": [
            "{0: [1, 0, 0, 0, 0, 0, 0, 0], 1: [1, 1, 1, 1, 1, 1, 1, 1], 3: [1, 1, 1, 2, 2, 2, 3, 3], 5: [1, 1, 1, 2, 2, 4, 4, 4]}\n"
          ]
        }
      ]
    },
    {
      "cell_type": "code",
      "source": [
        ""
      ],
      "metadata": {
        "id": "j1R0DX87-_ED"
      },
      "execution_count": null,
      "outputs": []
    },
    {
      "cell_type": "code",
      "source": [
        ""
      ],
      "metadata": {
        "id": "rUfPeqUM-9vu"
      },
      "execution_count": null,
      "outputs": []
    },
    {
      "cell_type": "code",
      "source": [
        ""
      ],
      "metadata": {
        "id": "9Q-1Zqtx-9p2"
      },
      "execution_count": null,
      "outputs": []
    },
    {
      "cell_type": "code",
      "source": [
        ""
      ],
      "metadata": {
        "id": "dQb3HxkW-9j7"
      },
      "execution_count": null,
      "outputs": []
    },
    {
      "cell_type": "code",
      "source": [
        ""
      ],
      "metadata": {
        "id": "FMr5vldL-9hs"
      },
      "execution_count": null,
      "outputs": []
    },
    {
      "cell_type": "code",
      "source": [
        ""
      ],
      "metadata": {
        "id": "caWwVn4G-9WN"
      },
      "execution_count": null,
      "outputs": []
    },
    {
      "cell_type": "code",
      "source": [
        ""
      ],
      "metadata": {
        "id": "bUBaDl_y-9Qs"
      },
      "execution_count": null,
      "outputs": []
    },
    {
      "cell_type": "code",
      "source": [
        ""
      ],
      "metadata": {
        "id": "iE9g_3Hl-9J-"
      },
      "execution_count": null,
      "outputs": []
    },
    {
      "cell_type": "code",
      "source": [
        ""
      ],
      "metadata": {
        "id": "QJAnb1VD-9Cz"
      },
      "execution_count": null,
      "outputs": []
    },
    {
      "cell_type": "code",
      "source": [
        ""
      ],
      "metadata": {
        "id": "9frI7eum-8_z"
      },
      "execution_count": null,
      "outputs": []
    },
    {
      "cell_type": "code",
      "source": [
        ""
      ],
      "metadata": {
        "id": "mUpbODwM2GcA"
      },
      "execution_count": null,
      "outputs": []
    },
    {
      "cell_type": "code",
      "source": [
        ""
      ],
      "metadata": {
        "id": "EcDTzoGS2GPz"
      },
      "execution_count": null,
      "outputs": []
    }
  ]
}